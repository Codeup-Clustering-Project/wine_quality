{
 "cells": [
  {
   "cell_type": "markdown",
   "id": "a7a7a016",
   "metadata": {},
   "source": [
    "# California Wine Quality Project"
   ]
  },
  {
   "cell_type": "markdown",
   "id": "1ede1f36",
   "metadata": {},
   "source": [
    "## Goals: \n",
    "   * Explore the data with clustering models.\n",
    "   * Develop a model that can accurately predict the quality level of the wine."
   ]
  },
  {
   "cell_type": "code",
   "execution_count": 1,
   "id": "e7efc42f",
   "metadata": {},
   "outputs": [],
   "source": [
    "# Imports\n",
    "\n",
    "#data manipulation\n",
    "import pandas as pd\n",
    "import numpy as np\n",
    "\n",
    "# data visualization\n",
    "import matplotlib.pyplot as plt\n",
    "import matplotlib.ticker as ticker\n",
    "import seaborn as sns\n",
    "\n",
    "# data separation/transformation\n",
    "from sklearn.linear_model import LinearRegression\n",
    "from sklearn.feature_selection import RFE # Recursive Feature Elimination¶\n",
    "\n",
    "# modeling\n",
    "from sklearn.cluster import KMeans\n",
    "import sklearn.preprocessing\n",
    "\n",
    "# statistics testing\n",
    "import scipy.stats as stats\n",
    "\n",
    "# system manipulation\n",
    "from itertools import combinations\n",
    "import os\n",
    "import sys\n",
    "sys.path.append(\"../util_\")\n",
    "import wrangle as w\n",
    "#import prepare_\n",
    "#import explore_\n",
    "\n",
    "# other\n",
    "import math\n",
    "import env\n",
    "import warnings\n",
    "warnings.filterwarnings(\"ignore\")\n",
    "\n",
    "# set the random seed\n",
    "np.random.seed(95)"
   ]
  },
  {
   "cell_type": "markdown",
   "id": "74c4771c",
   "metadata": {},
   "source": [
    "## Acquire\n",
    " \n",
    " * Acquire data from Data.World\n",
    " * Original dataset combined from two separate dataframes into one\n",
    " * 6497 rows and 13 columns in final dataframe"
   ]
  },
  {
   "cell_type": "markdown",
   "id": "e7945221",
   "metadata": {},
   "source": [
    "## Prepare\n",
    "* Rename columns\n",
    "* Remove 1177 duplicated rows\n",
    "* Create dummie varaibles (wine_clr)\n",
    "* Split data into train, validate, and test. (60/20/20 split)\n",
    "* Scale all columns except the target (quality) and the encoded (wine_clr)"
   ]
  },
  {
   "cell_type": "code",
   "execution_count": 6,
   "id": "d7b66563",
   "metadata": {},
   "outputs": [],
   "source": [
    "train, validate, test = w.wrangle_wine_explore()"
   ]
  },
  {
   "cell_type": "code",
   "execution_count": null,
   "id": "b8461273",
   "metadata": {},
   "outputs": [],
   "source": []
  }
 ],
 "metadata": {
  "kernelspec": {
   "display_name": "Python 3 (ipykernel)",
   "language": "python",
   "name": "python3"
  },
  "language_info": {
   "codemirror_mode": {
    "name": "ipython",
    "version": 3
   },
   "file_extension": ".py",
   "mimetype": "text/x-python",
   "name": "python",
   "nbconvert_exporter": "python",
   "pygments_lexer": "ipython3",
   "version": "3.10.9"
  }
 },
 "nbformat": 4,
 "nbformat_minor": 5
}
